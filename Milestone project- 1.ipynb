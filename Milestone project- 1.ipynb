{
 "cells": [
  {
   "cell_type": "code",
   "execution_count": 1,
   "metadata": {},
   "outputs": [],
   "source": [
    "from IPython.display import clear_output"
   ]
  },
  {
   "cell_type": "code",
   "execution_count": 2,
   "metadata": {},
   "outputs": [],
   "source": [
    "from random import randint"
   ]
  },
  {
   "cell_type": "code",
   "execution_count": 3,
   "metadata": {},
   "outputs": [],
   "source": [
    "def display_board(board):\n",
    "    clear_output()\n",
    "    print(board[9] + ' | ' + board[8] + ' | ' + board[7])\n",
    "    print(\"_________\\n\")\n",
    "    print(board[6] + ' | ' + board[5] + ' | ' + board[4])\n",
    "    print(\"_________\\n\")\n",
    "    print(board[3] + ' | ' + board[2] + ' | ' + board[1])"
   ]
  },
  {
   "cell_type": "code",
   "execution_count": 4,
   "metadata": {},
   "outputs": [],
   "source": [
    "def player_input():\n",
    "    choice='t'\n",
    "    while choice.upper() not in ['X','O']:\n",
    "        choice=input(\"choose X or O!\")\n",
    "        \n",
    "        if choice.upper() in ['X','O']:\n",
    "            if choice.upper=='X':\n",
    "                return ('X','O')\n",
    "            else:\n",
    "                return ('O','X')\n",
    "        else:\n",
    "            print('Opps wrong choice')"
   ]
  },
  {
   "cell_type": "code",
   "execution_count": 5,
   "metadata": {},
   "outputs": [],
   "source": [
    "def place_marker(board, marker, position):\n",
    "    board[position]=marker\n",
    "    return board"
   ]
  },
  {
   "cell_type": "code",
   "execution_count": 6,
   "metadata": {},
   "outputs": [],
   "source": [
    "def win_check(board, mark):\n",
    "    if board[9]==board[8]==board[7]==mark or board[6]==board[5]==board[4]==mark or board[3]==board[2]==board[1]==mark or board[9]==board[6]==board[3]==mark or board[8]==board[5]==board[2]==mark or board[7]==board[4]==board[1]==mark or board[9]==board[5]==board[1]==mark or board[7]==board[5]==board[3]==mark:\n",
    "        return True\n",
    "    else:\n",
    "        return False\n"
   ]
  },
  {
   "cell_type": "code",
   "execution_count": 7,
   "metadata": {},
   "outputs": [],
   "source": [
    "def choose_first():\n",
    "    players=['player1', 'player2']\n",
    "    whofirst= randint(0,1)\n",
    "    \n",
    "    return players[whofirst]"
   ]
  },
  {
   "cell_type": "code",
   "execution_count": 8,
   "metadata": {},
   "outputs": [],
   "source": [
    "def space_check(board, position):\n",
    "    if board[position]=='':\n",
    "        return True\n",
    "    else:\n",
    "        return False"
   ]
  },
  {
   "cell_type": "code",
   "execution_count": 9,
   "metadata": {},
   "outputs": [],
   "source": [
    "def full_board_check(board):\n",
    "    for num in board:\n",
    "        if num=='':\n",
    "            return False\n",
    "        else:\n",
    "            return True"
   ]
  },
  {
   "cell_type": "code",
   "execution_count": 10,
   "metadata": {},
   "outputs": [],
   "source": [
    "def player_choice(board):\n",
    "    position='wrong'\n",
    "    while position not in range(1,10):\n",
    "        position=int(input('write a number corresponding to the position you want your mark to be: '))\n",
    "        \n",
    "        if position in range(1,10):\n",
    "            if space_check(board, position):\n",
    "                return position\n",
    "            else:\n",
    "                print('opps the space is filled!')\n",
    "                \n",
    "        else:\n",
    "            print('enter a num from 1-9')"
   ]
  },
  {
   "cell_type": "code",
   "execution_count": 11,
   "metadata": {},
   "outputs": [],
   "source": [
    "def replay():\n",
    "    want='wrong'\n",
    "    while want.upper() not in ['Y','N']:\n",
    "        if want.upper() in ['Y','N']:\n",
    "            if want.upper()=='Y':\n",
    "                return True\n",
    "            else:\n",
    "                return False\n",
    "            \n",
    "        else:\n",
    "            print('opps wrong choice!')"
   ]
  },
  {
   "cell_type": "code",
   "execution_count": null,
   "metadata": {},
   "outputs": [],
   "source": []
  },
  {
   "cell_type": "code",
   "execution_count": null,
   "metadata": {},
   "outputs": [],
   "source": []
  },
  {
   "cell_type": "code",
   "execution_count": null,
   "metadata": {},
   "outputs": [],
   "source": []
  },
  {
   "cell_type": "code",
   "execution_count": null,
   "metadata": {},
   "outputs": [],
   "source": []
  },
  {
   "cell_type": "code",
   "execution_count": null,
   "metadata": {},
   "outputs": [],
   "source": []
  },
  {
   "cell_type": "code",
   "execution_count": null,
   "metadata": {},
   "outputs": [],
   "source": []
  },
  {
   "cell_type": "code",
   "execution_count": null,
   "metadata": {},
   "outputs": [],
   "source": []
  },
  {
   "cell_type": "code",
   "execution_count": null,
   "metadata": {},
   "outputs": [],
   "source": []
  },
  {
   "cell_type": "code",
   "execution_count": null,
   "metadata": {},
   "outputs": [],
   "source": []
  },
  {
   "cell_type": "code",
   "execution_count": null,
   "metadata": {},
   "outputs": [],
   "source": []
  },
  {
   "cell_type": "code",
   "execution_count": null,
   "metadata": {},
   "outputs": [],
   "source": []
  },
  {
   "cell_type": "code",
   "execution_count": null,
   "metadata": {},
   "outputs": [],
   "source": []
  },
  {
   "cell_type": "code",
   "execution_count": null,
   "metadata": {},
   "outputs": [],
   "source": []
  }
 ],
 "metadata": {
  "kernelspec": {
   "display_name": "Python 3",
   "language": "python",
   "name": "python3"
  },
  "language_info": {
   "codemirror_mode": {
    "name": "ipython",
    "version": 3
   },
   "file_extension": ".py",
   "mimetype": "text/x-python",
   "name": "python",
   "nbconvert_exporter": "python",
   "pygments_lexer": "ipython3",
   "version": "3.8.3"
  }
 },
 "nbformat": 4,
 "nbformat_minor": 4
}
